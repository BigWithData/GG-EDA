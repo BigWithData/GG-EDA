{
 "cells": [
  {
   "cell_type": "markdown",
   "metadata": {},
   "source": [
    "# Limitations"
   ]
  },
  {
   "cell_type": "markdown",
   "metadata": {},
   "source": [
    "1. We were unable to collect the winner information for two competitions (\"2TB Rocket 4.0 NVMe\" and \"PXL_20220202_193923763\") as the data was not available on the website.\n",
    "\n",
    "\n",
    "2. Our methodology was unable to determine whether winners were one or multiple people as no unique identifier is provided on the entry list(s) (only first name, last name and order id - the latter is not present in every entry list). Therefore, it is possible that some of the people treated as individuals (e.g. Rob Davies) are multiple people - however, upon manual investigation, it seems that this is unlikely as Jordan references his activity in Discord and the individual in question responded in kind on the Facebook live chat.\n",
    "\n",
    "3. Although some individuals, such as Rob Davies, won a total of 18 times, we were not able to calculate the total probability of him winning all the draws that he did as we could only correlate 12 entry lists with the prizes listed. This was the case for several individuals who sat outside the standard deviation. This means that the total probability of these individuals winning the prizes listed was likely much less than presented here."
   ]
  },
  {
   "cell_type": "markdown",
   "metadata": {},
   "source": [
    "# EDA of Gigahertz Giveaways"
   ]
  },
  {
   "cell_type": "markdown",
   "metadata": {},
   "source": [
    "## Requirements"
   ]
  },
  {
   "cell_type": "code",
   "execution_count": 75,
   "metadata": {},
   "outputs": [],
   "source": [
    "import os\n",
    "import sys\n",
    "import subprocess\n",
    "import importlib.util\n",
    "\n",
    "packages = ['beautifulsoup4', 'pandas', 'numpy', 'seaborn', 'matplotlib', 'plotly', 'requests', 'tabula-py', 'fuzzywuzzy']\n",
    "\n",
    "def install(package):\n",
    "  subprocess.check_call([sys.executable, \"-m\", \"pip\", \"install\", package])\n",
    "\n",
    "def is_installed(package):\n",
    "  spec = importlib.util.find_spec(package)\n",
    "  return True if spec is not None else False\n",
    "\n",
    "for package in packages:\n",
    "  if not is_installed(package):\n",
    "    install(package)"
   ]
  },
  {
   "cell_type": "code",
   "execution_count": 76,
   "metadata": {},
   "outputs": [],
   "source": [
    "import re\n",
    "import functools\n",
    "import requests\n",
    "import tabula\n",
    "import pandas as pd\n",
    "import numpy as np\n",
    "import seaborn as sns\n",
    "import plotly.express as px\n",
    "import matplotlib.image as mpimg\n",
    "import matplotlib.pyplot as plt\n",
    "from urllib.parse import urlparse\n",
    "from fuzzywuzzy import fuzz\n",
    "from bs4 import BeautifulSoup"
   ]
  },
  {
   "cell_type": "markdown",
   "metadata": {},
   "source": [
    "## URL patterns of interest\n",
    "The following URLs will be our source(s) of data:"
   ]
  },
  {
   "cell_type": "code",
   "execution_count": 77,
   "metadata": {},
   "outputs": [],
   "source": [
    "URL_PATTERNS = {\n",
    "  'ENTRIES': [\"https://gigahertzgiveaways.co.uk/entry-lists/\", \"https://gigahertzgiveaways.co.uk/entry-lists-archive/?swcfpc=1\"],\n",
    "  'WINNERS': [\"https://gigahertzgiveaways.co.uk/previous-winners/\"],\n",
    "}"
   ]
  },
  {
   "cell_type": "markdown",
   "metadata": {},
   "source": [
    "## Data collection\n",
    "\n",
    "Our first goal is to collect the name of each winner from the 'previous-winners' page, and to gather information regarding their prize / the draw itself."
   ]
  },
  {
   "cell_type": "markdown",
   "metadata": {},
   "source": [
    "#### Utilities"
   ]
  },
  {
   "cell_type": "code",
   "execution_count": 78,
   "metadata": {},
   "outputs": [],
   "source": [
    "def get_page(url):\n",
    "  html = requests.get(url=url).text\n",
    "  return BeautifulSoup(html, 'html.parser')\n"
   ]
  },
  {
   "cell_type": "markdown",
   "metadata": {},
   "source": [
    "#### Collecting winner data\n",
    "As you can see from the output below the 2nd cell, we were able to collect data for 827 draws but failed to retrieve data for 2 draws as they were not included on the page"
   ]
  },
  {
   "cell_type": "code",
   "execution_count": 79,
   "metadata": {},
   "outputs": [],
   "source": [
    "soup = get_page(URL_PATTERNS['WINNERS'][0])"
   ]
  },
  {
   "cell_type": "code",
   "execution_count": 80,
   "metadata": {},
   "outputs": [
    {
     "name": "stdout",
     "output_type": "stream",
     "text": [
      "Failed to retrieve data for '2TB Rocket 4.0 NVMe' @ 180\n",
      "Failed to retrieve data for 'PXL_20220202_193923763' @ 375\n",
      "[Data]: Collected data for 826 competitions\n"
     ]
    }
   ],
   "source": [
    "winner_df = pd.DataFrame(columns=('Item', 'Draw date', 'Winner', 'Ticket number', 'Maximum Tickets', 'Image'))\n",
    "elements = soup.find_all('div', class_='e-gallery-item elementor-gallery-item elementor-animated-content')\n",
    "for i, element in enumerate(elements):\n",
    "  try:\n",
    "    item = element.find('div', class_='elementor-gallery-item__title').get_text().strip()\n",
    "    desc = element.find('div', class_='elementor-gallery-item__description').get_text().strip()\n",
    "\n",
    "    obj = [item]\n",
    "    pattern = re.compile(r'(.*?)\\:\\s*\\n*(.*?)(?:\\n|$)')\n",
    "    for m in re.finditer(pattern, desc):\n",
    "      match = m.group(2)\n",
    "      if m.group(1) == 'Draw date':\n",
    "        match = re.search(r'([\\d+\\/]*)', match).group(0)\n",
    "      obj.append(match)\n",
    "    \n",
    "    img = element.find('div', class_='e-gallery-image elementor-gallery-item__image').get('data-thumbnail')\n",
    "    obj.append(img)\n",
    "    \n",
    "    winner_df.loc[i] = obj\n",
    "  except:\n",
    "    item = element.get_text().strip()\n",
    "    print(f\"Failed to retrieve data for '{item}' @ {i}\")\n",
    "\n",
    "print(f\"[Data]: Collected data for {len(winner_df)} competitions\")"
   ]
  },
  {
   "cell_type": "markdown",
   "metadata": {},
   "source": [
    "## Frequency of winners\n"
   ]
  },
  {
   "cell_type": "code",
   "execution_count": 92,
   "metadata": {},
   "outputs": [
    {
     "data": {
      "application/vnd.plotly.v1+json": {
       "config": {
        "plotlyServerURL": "https://plot.ly"
       },
       "data": [
        {
         "alignmentgroup": "True",
         "bingroup": "x",
         "hovertemplate": "Winner=%{x}<br>count=%{y}<extra></extra>",
         "legendgroup": "",
         "marker": {
          "color": "#636efa",
          "pattern": {
           "shape": ""
          }
         },
         "name": "",
         "offsetgroup": "",
         "orientation": "v",
         "showlegend": false,
         "type": "histogram",
         "x": [
          "Rob Davies",
          "David Smee",
          "Stephen McKeown",
          "Mike Leeve",
          "Stephen McKeown",
          "James Nightingale",
          "Elizabeth Bausola",
          "Tony Bennett",
          "Martin Quinney",
          "Adam Daniel",
          "Adam Lim",
          "Aaron Smallman",
          "Keith O'Shea",
          "Ethan Jones",
          "Kristian Parumog",
          "Jerry Cox",
          "Alex Hurrell",
          "zbigniew chetnik",
          "Craig Bennett",
          "Sean Brennan",
          "Jerry Cox",
          "James Thatcher",
          "Robert Gray",
          "Tony Bennett",
          "Andrew McAllan",
          "Gary Sharp",
          "Edward Burton",
          "Josh Dear",
          "Natasha Clarke",
          "Dawn Williams",
          "David Wardle",
          "Paul Huddart",
          "Neil Swatheridge",
          "Tony Bennett",
          "Jason Bradley",
          "Cam Vin",
          "John Cooke",
          "Darren Stringer",
          "Bryan Strachan",
          "Antony Stent",
          "Darryl Million",
          "Rajan Bhasin",
          "Andrejs Hodotovics",
          "David Fidler",
          "Gerald Weldon",
          "Daniel Morgan",
          "Micheal Nugent",
          "Douglas Spooner",
          "Robert Hearty",
          "Sami Ali",
          "Andrew Roberts",
          "Joshua Saunders",
          "Taras Shkabara",
          "Denny Gilligan",
          "Andrew Smith",
          "Neil Swatheridge",
          "Matthew Cooper",
          "Andy Cockrill",
          "Craig Mallinson",
          "Rob Davies",
          "Philip Keane",
          "Ian Hoole",
          "Luke Criggs",
          "Graham Stevens",
          "Rajan Bhasin",
          "Reece Wreford",
          "Kyle Reed",
          "Nigel Oldale",
          "Flavio Foncalves",
          "Aidan McCarthey",
          "Sam Henderson",
          "Andy Osborne",
          "Andy Osborne",
          "Gary Sharp",
          "Kyle Reed",
          "Tracey Frost",
          "Alex Reynolds",
          "Darren Stuchbery",
          "Antony Stent",
          "Nick Ogden",
          "Jack Edwards",
          "Chris Heggie",
          "Anthony Thorne",
          "Jamie Pickles",
          "Graeme Storey",
          "Sean Coffey",
          "Raja Tariq ",
          "Paul Fraser ",
          "Lee O'loughlin ",
          "David McGreish",
          "Sami ALI ",
          "Robert Gray ",
          "Chris Craddock ",
          "Flavio Goncalves ",
          "George Lear ",
          "Daniel Ollett ",
          "Graeme Storey ",
          "Darren Henderson ",
          "Isaac Poulson ",
          "Ilvars Cude ",
          "Daniel Nghiem ",
          "Rob Davies",
          "Edmond Yaxley-Aguilar",
          "Daniel Nghiem",
          "Gary Sharp",
          "Matthew Cooper",
          "George Crowley",
          "Daniel Ollett",
          "James Robertson",
          "Andrew Smith",
          "Joseph Ewen",
          "Matthew Cooper",
          "Joe Shields",
          "Andrew Whitmore",
          "Darren Stuchberry",
          "Darren Stuchbery",
          "Matthew McDonald",
          "Callum Sims",
          "Tracey Frost",
          "Matthew Cooper",
          "Jordan Morley",
          "Sami Ali",
          "James Robertson",
          "Mohamed Hadoka",
          "Graeme Storey",
          "Jonathon Heron",
          "Benjamin Lewis",
          "Steven Hay",
          "Daniel Ollett",
          "Estiann Redelinghuys",
          "Adam Sedgwick",
          "Martin Purnell",
          "Darren Henderson",
          "Ajay Woodbridge",
          "Darren Stringer",
          "James Ellis",
          "Michael Beswick",
          "James Ellis",
          "Graeme Storey",
          "Isaac Poulson",
          "Ryan Hays",
          "Rajan Bhasin",
          "David Phillips",
          "Kevin Penwright",
          "Martin Crimes",
          "Steve Wall",
          "Callum Sims",
          "Jack Noble",
          "Malcolm Harnden",
          "Brendan Toner",
          "Cameron Vince",
          "Stuart Vaughan",
          "Craig Limer",
          "Richard Holloway",
          "Nick Ogden",
          "Liam Ryan",
          "Sarah Walsh",
          "Ryan Pennington",
          "Anthony Corbett",
          "David Cox",
          "Matthew Reap",
          "Matthew McDonald",
          "Matthew Huby",
          "Kavi Baig",
          "Michael Beswick",
          "Dawn Day",
          "Robert Gray",
          "Liam Powell",
          "Jordan Pickard",
          "Liam Powell",
          "Daniel Ollett",
          "David Wardle",
          "Darren McBain",
          "Cassie Devereux",
          "Dave Thomas",
          "Tom Wallace-Stock",
          "Stefanos Demetriou",
          "Clinton Martin",
          "Karl Hantke",
          "Conway Fry",
          "Cassie Devereux",
          "Gavin Helyar",
          "Sami Ali",
          "Cameron Stephens",
          "Gavin Helyar",
          "David Cox",
          "Jack Carlin",
          "Chris Norris",
          "Matei Catalin",
          "Jordan Shaw",
          "Benjamin Cooper",
          "Nathan Liddle",
          "Sean Macur",
          "Alexander McClune",
          "Jack Thomson",
          "Tam Shaw",
          "Alexander McClune",
          "Ross Wood",
          "Robert Gray",
          "Edward Burton",
          "Adam Wood",
          "Andrejs Hodotovics",
          "Rob Davies",
          "Daniel Nghiem",
          "Cassie Devereux",
          "Luke Harris",
          "Bronwyn Driver",
          "Farlan Griffiths",
          "Aidan McCarthy",
          "Randeep Kang",
          "Reece Maye",
          "Robert Simic",
          "Graeme Storey ",
          "Chris Heggie",
          "Adam Crew",
          "Rob Davies",
          "Vihn Cam",
          "Dylan Thomas",
          "Dulcie Moffat",
          "David Smith",
          "Gavin Chisholm",
          "Alan Jones",
          "Caitlin Miles-Dowling",
          "Chris Daines",
          "Aaron Smallman",
          "Dawn Day",
          "Flavio Goncalves",
          "Keiran Richardson",
          "Rob Davies",
          "Alex Bellamy",
          "Harrison Mutch",
          "Cassie Devereux",
          "James Keay",
          "Bronwyn Driver",
          "Chisari Joseph",
          "Sophie Hunter",
          "Samuel Rodgers",
          "Bronwyn Driver",
          "Aaron Smallman",
          "Cameron Vince",
          "Anthony Thorne",
          "Bronwyn Driver",
          "Krzysztof Lopata",
          "Laura Cawley",
          "Janet Quinney",
          "David Philips",
          "Dan Jupp",
          "Stephen Fincken",
          "Jordan Morley",
          "Chris Rankin",
          "Anthony Thorne",
          "Dave Broadley",
          "Konstantin Zacinskij",
          "Jordan Morley",
          "Patrick Watson",
          "Jason Bradley",
          "Steven Hunter",
          "Peter Brooks",
          "Aaron Bell",
          "Gavin Chisholm",
          "Sami Ali",
          "Jason Peachey",
          "Gareth Willock",
          "Ferenc Kincses",
          "Rajan Bhasin",
          "Lewis Cheshire",
          "Tom Jones",
          "Lubo Kozak",
          "Jack Hancock",
          "Alexander McClune",
          "Mark Stuart",
          "Darren McBain",
          "Mark Mc caffrey",
          "Steve Shelley",
          "Zak Cordery",
          "Mark Davenhill",
          "Marc Bendelow",
          "Anthony Thorne",
          "Jamie Gibson",
          "Gavin Chisholm",
          "Lewis Farrimond",
          "Darin Marshall",
          "Gareth Willock",
          "Michael Maley",
          "Michael Maley",
          "Sean Coffey",
          "Liam Powell",
          "Kieran Brasher",
          "Joshua Cottrell",
          "Mark Jones",
          "Joel Davenhill",
          "Cameron Vince",
          "Calvin Blunt",
          "Richard Mayoh",
          "Derek Blackwood",
          "Gavin Helyar",
          "Ana Costa",
          "Aaron Millar",
          "Thomas Howland",
          "Mark Davenhill",
          "Mariusz Martyszko",
          "Chris Heggie",
          "Jason Vuong",
          "Anthony Parkes",
          "Bruce Wink",
          "Greg Basher",
          "Simon Schilling",
          "William Gallan",
          "Rob Davies",
          "Tony Potts",
          "Adam Mezei",
          "Miya Hanson",
          "Szabolcs Fabian",
          "Tony Potts",
          "David Lowe",
          "Jonathan Gauld",
          "Lewis Greenshields",
          "Kieran Brasher",
          "Alexa Borcsok",
          "jack Wingnett",
          "Matthew McDonald",
          "Graeme Fergusson",
          "Alistair Reilly",
          "Mark Barrigan",
          "Daniel Ollett",
          "Jayden Redfern",
          "Cameron Vince",
          "David Fidler",
          "Daniel Ollett",
          "David Wright",
          "Joshua Oreilly",
          "Josh Ward",
          "Karl Burrows",
          "Stephen Fincken",
          "Joseph Szepesi",
          "Steve Wall",
          "Paul Moloney",
          "James Davenhill",
          "Alex Boucher",
          "Darin Marshall",
          "David Rollins",
          "Matthew Burkett",
          "Daniel Ollett",
          "Andy Rosenberg",
          "Jake Kimpton",
          "Anastasija Rizaka",
          "Benjamin Lewis",
          "Sean Coffee",
          "Lee Morris",
          "David Lowe",
          "Mariusz Martyszko",
          "Mark Parnell",
          "Matei Catalin",
          "Romeo Gergely",
          "Cameron Vince",
          "Cameron Vince",
          "Aaron Millar",
          "Ben Clements",
          "Grant Hughes",
          "Matei Catalin",
          "Dean Richards",
          "David Latham",
          "Tomasz Burnat",
          "James Lomax",
          "Joe McDougall",
          "Matei Catalin",
          "Jon Parker",
          "Sami ALI",
          "Joshua Saunders",
          "tbc",
          "Reece Wreford",
          "Tommy Gallen",
          "James Davenhill",
          "Andrejs Hodotovics",
          "Michael Price",
          "Jordan McCann",
          "Aaron Millar",
          "Rob Davies",
          "James Harrison-King",
          "Liam Powell",
          "George Irving",
          "Daniel Ollett",
          "Krzysztof Lopata",
          "Keith Green",
          "Josh O'Connor",
          "Rob Davies",
          "Sami ALI",
          "Adrian Barrows",
          "Harrison Mutch",
          "Ryan Pennington",
          "Lee Morris",
          "Dave Eland",
          "Lewis Cheshire",
          "David Phillips",
          "Cameron Vince",
          "Cameron Vince",
          "Arianna Ohna",
          "Daniel McKiernan",
          "David Richards",
          "Zsolt Toth",
          "James Keay",
          "Ryan Pennington",
          "Andrew Doak",
          "Sami ALI",
          "David McGreish",
          "James Davies",
          "Anthony Thorne",
          "Harry Smith",
          "Joe Allenby",
          "Joseph Heard",
          "Stephen Seddon",
          "Simon Heath",
          "Krzysztof Brachun",
          "Jess Allen",
          "Mihai Matei",
          "Kev Morris",
          "Ian Budge",
          "Tom Scott",
          "Karl Pitkin",
          "David Boyd",
          "Lewis Greenshields",
          "Liam Powell",
          "Daniel Hudson",
          "Craig Plummer",
          "Jonathan Ward",
          "Alex Mcclune",
          "Lewis Phelps",
          "Krzysztof Lopata",
          "Christopher Hancock",
          "Laura Cawley",
          "Ryan Pennington",
          "Steven Raffo",
          "Luke Boden",
          "Andrei Geicu",
          "David Hardy",
          "Steven Macken",
          "Matthew Russell",
          "Daniel Allen",
          "Cameron Vince",
          "Isaac Poulson",
          "George Robertson",
          "Ewen Mackay",
          "Ross Taylor",
          "Gavin Chisholm",
          "Bradley Salsi",
          "Chris Heggie",
          "Lewis Greenshields",
          "Ian Mutch",
          "Andy Rosenberg",
          "Isaac Poulson",
          "Chris Heggie",
          "Robert Tench",
          "Stephen Richards",
          "Cameron Vince",
          "Trevor Jones",
          "Oliver McDonald",
          "Rob Davies",
          "Adrian Barton",
          "Arturs Kluns",
          "Andrei Geicu",
          "Grant Hughes",
          "Thomas White",
          "Janet Quinney",
          "Vinh Cam",
          "Cameron Vince",
          "Daniel Ollett",
          "Patrick Jason Manlapaz",
          "Rajan Bhasin",
          "James Harrison",
          "Mussannah Chowdhury",
          "Cameron Vince",
          "Mihai Matei",
          "Craig McEwan",
          "James Davies",
          "Andy Rosenberg",
          "Liam Megson",
          "Josh O'Connor",
          "Adrian Barton",
          "Gareth Burgess",
          "Jarek Gorka",
          "Vinh Cam",
          "Scott Findlay",
          "Keith Lemin",
          "Euan Ephgrave",
          "Janet Quinney",
          "Zak Cordery",
          "Jon Parker",
          "Jake Parkinson-Murphy",
          "James Mawer",
          "Daniel Stef",
          "Lewis Greenshields",
          "Mark Barrigan",
          "Vinh Cam",
          "Frederick Davies",
          "Liam Damms",
          "Chris Swift",
          "Lance Clifford",
          "Robert Tench",
          "Rod Hanmer",
          "Ethan Jones",
          "Patrick Elson",
          "Craig Limer",
          "Alex Mcclune",
          "Matthew Marks",
          "Cameron Vince",
          "Kewin Romanowski",
          "Simon Wilson",
          "Ryan Pennington",
          "Adam Reid",
          "Josue Da Silva",
          "Daniel Richmond",
          "Rg Bradshaw",
          "Janet Quinney",
          "Karl Foreman",
          "Stephen Seddon",
          "Philip Hillary",
          "Vinh Cam",
          "William Clayforth",
          "Ian Pemberton",
          "Ethan Jones",
          "Daniel Dan",
          "Rob Davies",
          "Matthew Burkett",
          "Rajan Bhasin",
          "Mark Constable",
          "Isaac Poulson",
          "Chris Swift",
          "Leigh Currell",
          "Jack Lewis",
          "Charlie Bishop",
          "Charlie Bishop",
          "Paul Higgon-Williams",
          "Cameron Mcintosh",
          "Kyle Thomson",
          "Rob Davies",
          "Isaac Poulson",
          "Cameron Vince",
          "Keiran Miller",
          "Gareth Kaps",
          "Stu Martin",
          "Chris Heggie",
          "James King",
          "James Carroll",
          "James Carroll",
          "Phil Keane",
          "Cameron Vince",
          "Isaac Poulson",
          "Brendan Edwards",
          "David Smee",
          "Christopher Hill ",
          "Sam Carson",
          "Craig Hornsby",
          "Mark Walden",
          "Isaac Poulson",
          "Cameron Vince",
          "Paul Higgon-Williams",
          "Lewis Cheshire",
          "Ben Frost",
          "Joshua Oreilly",
          "Alex Mcclune",
          "Jordan Morley",
          "Charles Partridge",
          "Kevin Morris",
          "Reece Timmons",
          "Liam Damms",
          "Thomas Storm",
          "Aaron Todd",
          "Thomas Burbridge",
          "Victoria Galloway",
          "Shaun Belt",
          "Ben Clements",
          "Donna Lyons",
          "Owen Pickering",
          "Eddie McDowell",
          "Joshua Cottrell",
          "James King",
          "Lewis Brown",
          "Alex Mcclune",
          "Ben Brettle",
          "Alex Nisipeanu",
          "Andrew Kuzmicz",
          "Jake Winter",
          "Lewis Nash",
          "Matthew Burkett",
          "David Phillips",
          "Sami Ali",
          "Andrew Mitchell",
          "Christopher Forder",
          "Alex Mcclune",
          "Janet Quinney",
          "Steve Shelley",
          "Sean Mohan",
          "Lee Barber",
          "Cameron Mcintosh",
          "Adam Talyor",
          "Philip Armstrong",
          "Garrick Richardson",
          "Tom Weraksa",
          "Philip Armstrong",
          "Laura Cawley",
          "Janet Quinney",
          "Lance Clifford",
          "Sami Ali",
          "Chris Heggie",
          "Kieran Brasher",
          "Ben Daly",
          "Cameron Vince ",
          "Cameron Vince",
          "Joshua Saunders",
          "Richard Webster",
          "Joshua Oreilly",
          "Adrian Aston",
          "Rob Davies",
          "Josh O'Connor",
          "Dan Marshall",
          "Michael Gunn",
          "Jonny Ward",
          "Jordan Knott",
          "Lance Clifford",
          "Sami ALI",
          "Tam Shaw",
          "Janet Quinney",
          "zbigniew chetnik",
          "Andrejs Butuzovs",
          "Christopher Forder",
          "Ian Cox",
          "Luke Penrice",
          "Seth Dear",
          "Ionut tuscanu",
          "James Colbrook",
          "Craig McEwan",
          "Daniel Clayton",
          "Jack Flint",
          "David Mriz",
          "Stephen Richards",
          "Ashley Murray",
          "Andrew Gilbert",
          "Joshua Oreilly",
          "Kyle Kenworthy",
          "Keith Lemin",
          "Callum Churchill",
          "Nat Thomson",
          "Conor Ashcroft",
          "Gavin Chisholm",
          "Chris Henderson",
          "Camden Dell",
          "Jake Dunn",
          "Jack Knight",
          "Mathew Pierce",
          "Kieron Highsted",
          "Harry Watson",
          "John McGuckin",
          "Janet Quinney",
          "Scott Macleod",
          "Andrew Shillito",
          "jon Parker",
          "Jack Hogan",
          "Matt Roscoe",
          "Robert Farmer",
          "Peter Carolan",
          "Daniel Carnovale",
          "Dean Aynsley",
          "Andrew Mcgonigle",
          "Andrew Lewis",
          "Daniel Ollett",
          "Daniel Ollett",
          "Paul Morrison",
          "Jack Gregory-Campbell",
          "Gareth Livett",
          "Joe Marrow",
          "Richard Cleave",
          "Omar Saroochi",
          "Sami Ali",
          "Doz Williams",
          "Ian Baluyut",
          "Daniel Ollett",
          "Phong Ha",
          "Steven Woodward",
          "Mariusz Martyszko",
          "Guy Talbott",
          "Frederick Davies",
          "Long Nguyen",
          "Sam Patterson",
          "Rob Davies",
          "Joshua Kennett",
          "Alexandros Vazakas",
          "Peter Carolan",
          "Lucas Da silva",
          "Peter Carolan",
          "Kevin Morris",
          "John Rimmer",
          "Vinh Cam",
          "Vinh Cam",
          "Dan Lewington",
          "Long Nguyen",
          "David Wright",
          "Liam Carhart",
          "Daniel Ollett",
          "Stephen Higgs",
          "Ian Baluyut",
          "Mihai Matei",
          "Ian Arthur",
          "Stephen Higgs",
          "Jamie Wardlaw",
          "Deividas Dorsa",
          "Richard Collins",
          "Tam Shaw",
          "Nicholas Howe",
          "Tam Shaw",
          "Glenn Montgomery",
          "Craig Mallinson",
          "Chris Warner",
          "Vinh Cam",
          "Luke Proudman",
          "Vinh Cam",
          "Christopher Forder",
          "Oliver Williams",
          "Jake Dunn",
          "Rob Davies",
          "Jon Parker",
          "Tam Shaw",
          "Nathan Darch",
          "Christopher Forder",
          "Sami ALI",
          "Alex Hurrell",
          "Jake Dunn",
          "Rob Davies",
          "Ian Arthur",
          "Ionut tuscanu",
          "Joshua Koppelow",
          "Vinh Cam",
          "Mariusz Martyszko",
          "Mark Jenkins",
          "Adrian Barrows",
          "Steven Woodward",
          "Daniel Clayton",
          "Dorian Williams",
          "Adam Turner",
          "David Phillips",
          "Richard Bamforth",
          "Lyndon Wright",
          "Ionut tuscanu",
          "Rob Davies",
          "Lucas Da silva",
          "Aaron Howes",
          "James Clarke",
          "Niall Florence",
          "Adam Mayne",
          "Alex Moore",
          "Ashley Hill",
          "Chris Warner",
          "Sami ALI",
          "Shannon De Pass",
          "Joshua Saunders",
          "Mariusz Pietrzyk",
          "Jack Lewis",
          "Ana Costa",
          "Ryan Green",
          "Lucas Da silva",
          "Dan Cochrane",
          "Robert Murphy",
          "Alex Moore",
          "Mariusz Martyszko",
          "Ben Cross",
          "Glenn Montgomery",
          "Steven Bing",
          "Matt Eggleton",
          "David Phillips",
          "Rob Davies",
          "Alex Hurrell",
          "Keiran Miller",
          "Konstantin Zacinskij",
          "Nathan Darch",
          "Tom Lock",
          "Andi Boulton",
          "Stephen Houghton",
          "James Clarke",
          "Tibor Ircsik",
          "Denis Stankevicius",
          "Michael Sinclair",
          "Cameron Steadman",
          "Michael Sinclair",
          "Aaron Bell",
          "Adrian Barrows",
          "Daniel Ollett",
          "Marc Lumley",
          "Cameron Steadman",
          "Mohammed Burhan",
          "Sade Hardwick",
          "Wayne Hughes",
          "Ryan Pringle",
          "Chris Murphy",
          "Lowri Tulk",
          "Tibor Ircsik",
          "Oscar Card",
          "Nathan Jaggard",
          "Michael Manning",
          "Josh O’Connor",
          "Daniel Howard",
          "Jack Clarridge",
          "Josh O’Connor",
          "Ciaran Kelledy-Murphy",
          "John Bond",
          "Jonny Smith",
          "David luong",
          "Paul Willis",
          "John Bond",
          "Sean Southwood-Samuel",
          "Thomas Power",
          "Matthew Berry",
          "John Bond",
          "Mark Walden",
          "Alex Lambton",
          "Billy Kons",
          "Dean Lynch",
          "Josh O’Connor",
          "Joe Reynolds",
          "David Luong",
          "Jack Lewis",
          "Nathaniel Tume",
          "Martin Whitfield",
          "Dean Axten",
          "Ryan Pringle",
          "Chris Dixon",
          "Joe Reynolds",
          "Andy Tyson"
         ],
         "xaxis": "x",
         "yaxis": "y"
        }
       ],
       "layout": {
        "barmode": "relative",
        "legend": {
         "tracegroupgap": 0
        },
        "margin": {
         "t": 60
        },
        "template": {
         "data": {
          "bar": [
           {
            "error_x": {
             "color": "#2a3f5f"
            },
            "error_y": {
             "color": "#2a3f5f"
            },
            "marker": {
             "line": {
              "color": "#E5ECF6",
              "width": 0.5
             },
             "pattern": {
              "fillmode": "overlay",
              "size": 10,
              "solidity": 0.2
             }
            },
            "type": "bar"
           }
          ],
          "barpolar": [
           {
            "marker": {
             "line": {
              "color": "#E5ECF6",
              "width": 0.5
             },
             "pattern": {
              "fillmode": "overlay",
              "size": 10,
              "solidity": 0.2
             }
            },
            "type": "barpolar"
           }
          ],
          "carpet": [
           {
            "aaxis": {
             "endlinecolor": "#2a3f5f",
             "gridcolor": "white",
             "linecolor": "white",
             "minorgridcolor": "white",
             "startlinecolor": "#2a3f5f"
            },
            "baxis": {
             "endlinecolor": "#2a3f5f",
             "gridcolor": "white",
             "linecolor": "white",
             "minorgridcolor": "white",
             "startlinecolor": "#2a3f5f"
            },
            "type": "carpet"
           }
          ],
          "choropleth": [
           {
            "colorbar": {
             "outlinewidth": 0,
             "ticks": ""
            },
            "type": "choropleth"
           }
          ],
          "contour": [
           {
            "colorbar": {
             "outlinewidth": 0,
             "ticks": ""
            },
            "colorscale": [
             [
              0,
              "#0d0887"
             ],
             [
              0.1111111111111111,
              "#46039f"
             ],
             [
              0.2222222222222222,
              "#7201a8"
             ],
             [
              0.3333333333333333,
              "#9c179e"
             ],
             [
              0.4444444444444444,
              "#bd3786"
             ],
             [
              0.5555555555555556,
              "#d8576b"
             ],
             [
              0.6666666666666666,
              "#ed7953"
             ],
             [
              0.7777777777777778,
              "#fb9f3a"
             ],
             [
              0.8888888888888888,
              "#fdca26"
             ],
             [
              1,
              "#f0f921"
             ]
            ],
            "type": "contour"
           }
          ],
          "contourcarpet": [
           {
            "colorbar": {
             "outlinewidth": 0,
             "ticks": ""
            },
            "type": "contourcarpet"
           }
          ],
          "heatmap": [
           {
            "colorbar": {
             "outlinewidth": 0,
             "ticks": ""
            },
            "colorscale": [
             [
              0,
              "#0d0887"
             ],
             [
              0.1111111111111111,
              "#46039f"
             ],
             [
              0.2222222222222222,
              "#7201a8"
             ],
             [
              0.3333333333333333,
              "#9c179e"
             ],
             [
              0.4444444444444444,
              "#bd3786"
             ],
             [
              0.5555555555555556,
              "#d8576b"
             ],
             [
              0.6666666666666666,
              "#ed7953"
             ],
             [
              0.7777777777777778,
              "#fb9f3a"
             ],
             [
              0.8888888888888888,
              "#fdca26"
             ],
             [
              1,
              "#f0f921"
             ]
            ],
            "type": "heatmap"
           }
          ],
          "heatmapgl": [
           {
            "colorbar": {
             "outlinewidth": 0,
             "ticks": ""
            },
            "colorscale": [
             [
              0,
              "#0d0887"
             ],
             [
              0.1111111111111111,
              "#46039f"
             ],
             [
              0.2222222222222222,
              "#7201a8"
             ],
             [
              0.3333333333333333,
              "#9c179e"
             ],
             [
              0.4444444444444444,
              "#bd3786"
             ],
             [
              0.5555555555555556,
              "#d8576b"
             ],
             [
              0.6666666666666666,
              "#ed7953"
             ],
             [
              0.7777777777777778,
              "#fb9f3a"
             ],
             [
              0.8888888888888888,
              "#fdca26"
             ],
             [
              1,
              "#f0f921"
             ]
            ],
            "type": "heatmapgl"
           }
          ],
          "histogram": [
           {
            "marker": {
             "pattern": {
              "fillmode": "overlay",
              "size": 10,
              "solidity": 0.2
             }
            },
            "type": "histogram"
           }
          ],
          "histogram2d": [
           {
            "colorbar": {
             "outlinewidth": 0,
             "ticks": ""
            },
            "colorscale": [
             [
              0,
              "#0d0887"
             ],
             [
              0.1111111111111111,
              "#46039f"
             ],
             [
              0.2222222222222222,
              "#7201a8"
             ],
             [
              0.3333333333333333,
              "#9c179e"
             ],
             [
              0.4444444444444444,
              "#bd3786"
             ],
             [
              0.5555555555555556,
              "#d8576b"
             ],
             [
              0.6666666666666666,
              "#ed7953"
             ],
             [
              0.7777777777777778,
              "#fb9f3a"
             ],
             [
              0.8888888888888888,
              "#fdca26"
             ],
             [
              1,
              "#f0f921"
             ]
            ],
            "type": "histogram2d"
           }
          ],
          "histogram2dcontour": [
           {
            "colorbar": {
             "outlinewidth": 0,
             "ticks": ""
            },
            "colorscale": [
             [
              0,
              "#0d0887"
             ],
             [
              0.1111111111111111,
              "#46039f"
             ],
             [
              0.2222222222222222,
              "#7201a8"
             ],
             [
              0.3333333333333333,
              "#9c179e"
             ],
             [
              0.4444444444444444,
              "#bd3786"
             ],
             [
              0.5555555555555556,
              "#d8576b"
             ],
             [
              0.6666666666666666,
              "#ed7953"
             ],
             [
              0.7777777777777778,
              "#fb9f3a"
             ],
             [
              0.8888888888888888,
              "#fdca26"
             ],
             [
              1,
              "#f0f921"
             ]
            ],
            "type": "histogram2dcontour"
           }
          ],
          "mesh3d": [
           {
            "colorbar": {
             "outlinewidth": 0,
             "ticks": ""
            },
            "type": "mesh3d"
           }
          ],
          "parcoords": [
           {
            "line": {
             "colorbar": {
              "outlinewidth": 0,
              "ticks": ""
             }
            },
            "type": "parcoords"
           }
          ],
          "pie": [
           {
            "automargin": true,
            "type": "pie"
           }
          ],
          "scatter": [
           {
            "fillpattern": {
             "fillmode": "overlay",
             "size": 10,
             "solidity": 0.2
            },
            "type": "scatter"
           }
          ],
          "scatter3d": [
           {
            "line": {
             "colorbar": {
              "outlinewidth": 0,
              "ticks": ""
             }
            },
            "marker": {
             "colorbar": {
              "outlinewidth": 0,
              "ticks": ""
             }
            },
            "type": "scatter3d"
           }
          ],
          "scattercarpet": [
           {
            "marker": {
             "colorbar": {
              "outlinewidth": 0,
              "ticks": ""
             }
            },
            "type": "scattercarpet"
           }
          ],
          "scattergeo": [
           {
            "marker": {
             "colorbar": {
              "outlinewidth": 0,
              "ticks": ""
             }
            },
            "type": "scattergeo"
           }
          ],
          "scattergl": [
           {
            "marker": {
             "colorbar": {
              "outlinewidth": 0,
              "ticks": ""
             }
            },
            "type": "scattergl"
           }
          ],
          "scattermapbox": [
           {
            "marker": {
             "colorbar": {
              "outlinewidth": 0,
              "ticks": ""
             }
            },
            "type": "scattermapbox"
           }
          ],
          "scatterpolar": [
           {
            "marker": {
             "colorbar": {
              "outlinewidth": 0,
              "ticks": ""
             }
            },
            "type": "scatterpolar"
           }
          ],
          "scatterpolargl": [
           {
            "marker": {
             "colorbar": {
              "outlinewidth": 0,
              "ticks": ""
             }
            },
            "type": "scatterpolargl"
           }
          ],
          "scatterternary": [
           {
            "marker": {
             "colorbar": {
              "outlinewidth": 0,
              "ticks": ""
             }
            },
            "type": "scatterternary"
           }
          ],
          "surface": [
           {
            "colorbar": {
             "outlinewidth": 0,
             "ticks": ""
            },
            "colorscale": [
             [
              0,
              "#0d0887"
             ],
             [
              0.1111111111111111,
              "#46039f"
             ],
             [
              0.2222222222222222,
              "#7201a8"
             ],
             [
              0.3333333333333333,
              "#9c179e"
             ],
             [
              0.4444444444444444,
              "#bd3786"
             ],
             [
              0.5555555555555556,
              "#d8576b"
             ],
             [
              0.6666666666666666,
              "#ed7953"
             ],
             [
              0.7777777777777778,
              "#fb9f3a"
             ],
             [
              0.8888888888888888,
              "#fdca26"
             ],
             [
              1,
              "#f0f921"
             ]
            ],
            "type": "surface"
           }
          ],
          "table": [
           {
            "cells": {
             "fill": {
              "color": "#EBF0F8"
             },
             "line": {
              "color": "white"
             }
            },
            "header": {
             "fill": {
              "color": "#C8D4E3"
             },
             "line": {
              "color": "white"
             }
            },
            "type": "table"
           }
          ]
         },
         "layout": {
          "annotationdefaults": {
           "arrowcolor": "#2a3f5f",
           "arrowhead": 0,
           "arrowwidth": 1
          },
          "autotypenumbers": "strict",
          "coloraxis": {
           "colorbar": {
            "outlinewidth": 0,
            "ticks": ""
           }
          },
          "colorscale": {
           "diverging": [
            [
             0,
             "#8e0152"
            ],
            [
             0.1,
             "#c51b7d"
            ],
            [
             0.2,
             "#de77ae"
            ],
            [
             0.3,
             "#f1b6da"
            ],
            [
             0.4,
             "#fde0ef"
            ],
            [
             0.5,
             "#f7f7f7"
            ],
            [
             0.6,
             "#e6f5d0"
            ],
            [
             0.7,
             "#b8e186"
            ],
            [
             0.8,
             "#7fbc41"
            ],
            [
             0.9,
             "#4d9221"
            ],
            [
             1,
             "#276419"
            ]
           ],
           "sequential": [
            [
             0,
             "#0d0887"
            ],
            [
             0.1111111111111111,
             "#46039f"
            ],
            [
             0.2222222222222222,
             "#7201a8"
            ],
            [
             0.3333333333333333,
             "#9c179e"
            ],
            [
             0.4444444444444444,
             "#bd3786"
            ],
            [
             0.5555555555555556,
             "#d8576b"
            ],
            [
             0.6666666666666666,
             "#ed7953"
            ],
            [
             0.7777777777777778,
             "#fb9f3a"
            ],
            [
             0.8888888888888888,
             "#fdca26"
            ],
            [
             1,
             "#f0f921"
            ]
           ],
           "sequentialminus": [
            [
             0,
             "#0d0887"
            ],
            [
             0.1111111111111111,
             "#46039f"
            ],
            [
             0.2222222222222222,
             "#7201a8"
            ],
            [
             0.3333333333333333,
             "#9c179e"
            ],
            [
             0.4444444444444444,
             "#bd3786"
            ],
            [
             0.5555555555555556,
             "#d8576b"
            ],
            [
             0.6666666666666666,
             "#ed7953"
            ],
            [
             0.7777777777777778,
             "#fb9f3a"
            ],
            [
             0.8888888888888888,
             "#fdca26"
            ],
            [
             1,
             "#f0f921"
            ]
           ]
          },
          "colorway": [
           "#636efa",
           "#EF553B",
           "#00cc96",
           "#ab63fa",
           "#FFA15A",
           "#19d3f3",
           "#FF6692",
           "#B6E880",
           "#FF97FF",
           "#FECB52"
          ],
          "font": {
           "color": "#2a3f5f"
          },
          "geo": {
           "bgcolor": "white",
           "lakecolor": "white",
           "landcolor": "#E5ECF6",
           "showlakes": true,
           "showland": true,
           "subunitcolor": "white"
          },
          "hoverlabel": {
           "align": "left"
          },
          "hovermode": "closest",
          "mapbox": {
           "style": "light"
          },
          "paper_bgcolor": "white",
          "plot_bgcolor": "#E5ECF6",
          "polar": {
           "angularaxis": {
            "gridcolor": "white",
            "linecolor": "white",
            "ticks": ""
           },
           "bgcolor": "#E5ECF6",
           "radialaxis": {
            "gridcolor": "white",
            "linecolor": "white",
            "ticks": ""
           }
          },
          "scene": {
           "xaxis": {
            "backgroundcolor": "#E5ECF6",
            "gridcolor": "white",
            "gridwidth": 2,
            "linecolor": "white",
            "showbackground": true,
            "ticks": "",
            "zerolinecolor": "white"
           },
           "yaxis": {
            "backgroundcolor": "#E5ECF6",
            "gridcolor": "white",
            "gridwidth": 2,
            "linecolor": "white",
            "showbackground": true,
            "ticks": "",
            "zerolinecolor": "white"
           },
           "zaxis": {
            "backgroundcolor": "#E5ECF6",
            "gridcolor": "white",
            "gridwidth": 2,
            "linecolor": "white",
            "showbackground": true,
            "ticks": "",
            "zerolinecolor": "white"
           }
          },
          "shapedefaults": {
           "line": {
            "color": "#2a3f5f"
           }
          },
          "ternary": {
           "aaxis": {
            "gridcolor": "white",
            "linecolor": "white",
            "ticks": ""
           },
           "baxis": {
            "gridcolor": "white",
            "linecolor": "white",
            "ticks": ""
           },
           "bgcolor": "#E5ECF6",
           "caxis": {
            "gridcolor": "white",
            "linecolor": "white",
            "ticks": ""
           }
          },
          "title": {
           "x": 0.05
          },
          "xaxis": {
           "automargin": true,
           "gridcolor": "white",
           "linecolor": "white",
           "ticks": "",
           "title": {
            "standoff": 15
           },
           "zerolinecolor": "white",
           "zerolinewidth": 2
          },
          "yaxis": {
           "automargin": true,
           "gridcolor": "white",
           "linecolor": "white",
           "ticks": "",
           "title": {
            "standoff": 15
           },
           "zerolinecolor": "white",
           "zerolinewidth": 2
          }
         }
        },
        "xaxis": {
         "anchor": "y",
         "categoryorder": "total descending",
         "domain": [
          0,
          1
         ],
         "title": {
          "text": "Winner"
         }
        },
        "yaxis": {
         "anchor": "x",
         "domain": [
          0,
          1
         ],
         "title": {
          "text": "count"
         }
        }
       }
      }
     },
     "metadata": {},
     "output_type": "display_data"
    }
   ],
   "source": [
    "!pip install --upgrade nbformat\n",
    "px.histogram(winner_df, x=\"Winner\").update_xaxes(categoryorder='total descending')"
   ]
  },
  {
   "cell_type": "markdown",
   "metadata": {},
   "source": [
    "## Selecting outliers outside standard deviation for analysis\n",
    "\n",
    "Let's select the 'luckiest' people by selecting those that have a win count outside of the standard deviation..."
   ]
  },
  {
   "cell_type": "code",
   "execution_count": 82,
   "metadata": {},
   "outputs": [
    {
     "name": "stdout",
     "output_type": "stream",
     "text": [
      "Rob Davies        won a total of 18 times\n",
      "Cameron Vince     won a total of 17 times\n",
      "Daniel Ollett     won a total of 13 times\n",
      "Vinh Cam          won a total of 9 times\n",
      "Janet Quinney     won a total of 8 times\n",
      "Sami Ali          won a total of 7 times\n",
      "Chris Heggie      won a total of 7 times\n",
      "Isaac Poulson     won a total of 7 times\n",
      "Rajan Bhasin      won a total of 6 times\n",
      "Sami ALI          won a total of 6 times\n",
      "Anthony Thorne    won a total of 5 times\n",
      "David Phillips    won a total of 5 times\n",
      "Ryan Pennington   won a total of 5 times\n",
      "Liam Powell       won a total of 5 times\n",
      "Tam Shaw          won a total of 5 times\n",
      "Gavin Chisholm    won a total of 5 times\n",
      "Mariusz Martyszko won a total of 5 times\n",
      "Alex Mcclune      won a total of 5 times\n"
     ]
    },
    {
     "data": {
      "application/vnd.plotly.v1+json": {
       "config": {
        "plotlyServerURL": "https://plot.ly"
       },
       "data": [
        {
         "alignmentgroup": "True",
         "bingroup": "x",
         "hovertemplate": "Winner=%{x}<br>count=%{y}<extra></extra>",
         "legendgroup": "",
         "marker": {
          "color": "#636efa",
          "pattern": {
           "shape": ""
          }
         },
         "name": "",
         "offsetgroup": "",
         "orientation": "v",
         "showlegend": false,
         "type": "histogram",
         "x": [
          "Rob Davies",
          "Rajan Bhasin",
          "Sami Ali",
          "Rob Davies",
          "Rajan Bhasin",
          "Chris Heggie",
          "Anthony Thorne",
          "Rob Davies",
          "Daniel Ollett",
          "Sami Ali",
          "Daniel Ollett",
          "Isaac Poulson",
          "Rajan Bhasin",
          "David Phillips",
          "Cameron Vince",
          "Ryan Pennington",
          "Liam Powell",
          "Liam Powell",
          "Daniel Ollett",
          "Sami Ali",
          "Tam Shaw",
          "Rob Davies",
          "Chris Heggie",
          "Rob Davies",
          "Gavin Chisholm",
          "Rob Davies",
          "Cameron Vince",
          "Anthony Thorne",
          "Janet Quinney",
          "Anthony Thorne",
          "Gavin Chisholm",
          "Sami Ali",
          "Rajan Bhasin",
          "Anthony Thorne",
          "Gavin Chisholm",
          "Liam Powell",
          "Cameron Vince",
          "Mariusz Martyszko",
          "Chris Heggie",
          "Rob Davies",
          "Daniel Ollett",
          "Cameron Vince",
          "Daniel Ollett",
          "Daniel Ollett",
          "Mariusz Martyszko",
          "Cameron Vince",
          "Cameron Vince",
          "Sami ALI",
          "Rob Davies",
          "Liam Powell",
          "Daniel Ollett",
          "Rob Davies",
          "Sami ALI",
          "Ryan Pennington",
          "David Phillips",
          "Cameron Vince",
          "Cameron Vince",
          "Ryan Pennington",
          "Sami ALI",
          "Anthony Thorne",
          "Liam Powell",
          "Alex Mcclune",
          "Ryan Pennington",
          "Cameron Vince",
          "Isaac Poulson",
          "Gavin Chisholm",
          "Chris Heggie",
          "Isaac Poulson",
          "Chris Heggie",
          "Cameron Vince",
          "Rob Davies",
          "Janet Quinney",
          "Vinh Cam",
          "Cameron Vince",
          "Daniel Ollett",
          "Rajan Bhasin",
          "Cameron Vince",
          "Vinh Cam",
          "Janet Quinney",
          "Vinh Cam",
          "Alex Mcclune",
          "Cameron Vince",
          "Ryan Pennington",
          "Janet Quinney",
          "Vinh Cam",
          "Rob Davies",
          "Rajan Bhasin",
          "Isaac Poulson",
          "Rob Davies",
          "Isaac Poulson",
          "Cameron Vince",
          "Chris Heggie",
          "Cameron Vince",
          "Isaac Poulson",
          "Isaac Poulson",
          "Cameron Vince",
          "Alex Mcclune",
          "Alex Mcclune",
          "David Phillips",
          "Sami Ali",
          "Alex Mcclune",
          "Janet Quinney",
          "Janet Quinney",
          "Sami Ali",
          "Chris Heggie",
          "Cameron Vince",
          "Rob Davies",
          "Sami ALI",
          "Tam Shaw",
          "Janet Quinney",
          "Gavin Chisholm",
          "Janet Quinney",
          "Daniel Ollett",
          "Daniel Ollett",
          "Sami Ali",
          "Daniel Ollett",
          "Mariusz Martyszko",
          "Rob Davies",
          "Vinh Cam",
          "Vinh Cam",
          "Daniel Ollett",
          "Tam Shaw",
          "Tam Shaw",
          "Vinh Cam",
          "Vinh Cam",
          "Rob Davies",
          "Tam Shaw",
          "Sami ALI",
          "Rob Davies",
          "Vinh Cam",
          "Mariusz Martyszko",
          "David Phillips",
          "Rob Davies",
          "Sami ALI",
          "Mariusz Martyszko",
          "David Phillips",
          "Rob Davies",
          "Daniel Ollett"
         ],
         "xaxis": "x",
         "yaxis": "y"
        }
       ],
       "layout": {
        "barmode": "relative",
        "legend": {
         "tracegroupgap": 0
        },
        "margin": {
         "t": 60
        },
        "template": {
         "data": {
          "bar": [
           {
            "error_x": {
             "color": "#2a3f5f"
            },
            "error_y": {
             "color": "#2a3f5f"
            },
            "marker": {
             "line": {
              "color": "#E5ECF6",
              "width": 0.5
             },
             "pattern": {
              "fillmode": "overlay",
              "size": 10,
              "solidity": 0.2
             }
            },
            "type": "bar"
           }
          ],
          "barpolar": [
           {
            "marker": {
             "line": {
              "color": "#E5ECF6",
              "width": 0.5
             },
             "pattern": {
              "fillmode": "overlay",
              "size": 10,
              "solidity": 0.2
             }
            },
            "type": "barpolar"
           }
          ],
          "carpet": [
           {
            "aaxis": {
             "endlinecolor": "#2a3f5f",
             "gridcolor": "white",
             "linecolor": "white",
             "minorgridcolor": "white",
             "startlinecolor": "#2a3f5f"
            },
            "baxis": {
             "endlinecolor": "#2a3f5f",
             "gridcolor": "white",
             "linecolor": "white",
             "minorgridcolor": "white",
             "startlinecolor": "#2a3f5f"
            },
            "type": "carpet"
           }
          ],
          "choropleth": [
           {
            "colorbar": {
             "outlinewidth": 0,
             "ticks": ""
            },
            "type": "choropleth"
           }
          ],
          "contour": [
           {
            "colorbar": {
             "outlinewidth": 0,
             "ticks": ""
            },
            "colorscale": [
             [
              0,
              "#0d0887"
             ],
             [
              0.1111111111111111,
              "#46039f"
             ],
             [
              0.2222222222222222,
              "#7201a8"
             ],
             [
              0.3333333333333333,
              "#9c179e"
             ],
             [
              0.4444444444444444,
              "#bd3786"
             ],
             [
              0.5555555555555556,
              "#d8576b"
             ],
             [
              0.6666666666666666,
              "#ed7953"
             ],
             [
              0.7777777777777778,
              "#fb9f3a"
             ],
             [
              0.8888888888888888,
              "#fdca26"
             ],
             [
              1,
              "#f0f921"
             ]
            ],
            "type": "contour"
           }
          ],
          "contourcarpet": [
           {
            "colorbar": {
             "outlinewidth": 0,
             "ticks": ""
            },
            "type": "contourcarpet"
           }
          ],
          "heatmap": [
           {
            "colorbar": {
             "outlinewidth": 0,
             "ticks": ""
            },
            "colorscale": [
             [
              0,
              "#0d0887"
             ],
             [
              0.1111111111111111,
              "#46039f"
             ],
             [
              0.2222222222222222,
              "#7201a8"
             ],
             [
              0.3333333333333333,
              "#9c179e"
             ],
             [
              0.4444444444444444,
              "#bd3786"
             ],
             [
              0.5555555555555556,
              "#d8576b"
             ],
             [
              0.6666666666666666,
              "#ed7953"
             ],
             [
              0.7777777777777778,
              "#fb9f3a"
             ],
             [
              0.8888888888888888,
              "#fdca26"
             ],
             [
              1,
              "#f0f921"
             ]
            ],
            "type": "heatmap"
           }
          ],
          "heatmapgl": [
           {
            "colorbar": {
             "outlinewidth": 0,
             "ticks": ""
            },
            "colorscale": [
             [
              0,
              "#0d0887"
             ],
             [
              0.1111111111111111,
              "#46039f"
             ],
             [
              0.2222222222222222,
              "#7201a8"
             ],
             [
              0.3333333333333333,
              "#9c179e"
             ],
             [
              0.4444444444444444,
              "#bd3786"
             ],
             [
              0.5555555555555556,
              "#d8576b"
             ],
             [
              0.6666666666666666,
              "#ed7953"
             ],
             [
              0.7777777777777778,
              "#fb9f3a"
             ],
             [
              0.8888888888888888,
              "#fdca26"
             ],
             [
              1,
              "#f0f921"
             ]
            ],
            "type": "heatmapgl"
           }
          ],
          "histogram": [
           {
            "marker": {
             "pattern": {
              "fillmode": "overlay",
              "size": 10,
              "solidity": 0.2
             }
            },
            "type": "histogram"
           }
          ],
          "histogram2d": [
           {
            "colorbar": {
             "outlinewidth": 0,
             "ticks": ""
            },
            "colorscale": [
             [
              0,
              "#0d0887"
             ],
             [
              0.1111111111111111,
              "#46039f"
             ],
             [
              0.2222222222222222,
              "#7201a8"
             ],
             [
              0.3333333333333333,
              "#9c179e"
             ],
             [
              0.4444444444444444,
              "#bd3786"
             ],
             [
              0.5555555555555556,
              "#d8576b"
             ],
             [
              0.6666666666666666,
              "#ed7953"
             ],
             [
              0.7777777777777778,
              "#fb9f3a"
             ],
             [
              0.8888888888888888,
              "#fdca26"
             ],
             [
              1,
              "#f0f921"
             ]
            ],
            "type": "histogram2d"
           }
          ],
          "histogram2dcontour": [
           {
            "colorbar": {
             "outlinewidth": 0,
             "ticks": ""
            },
            "colorscale": [
             [
              0,
              "#0d0887"
             ],
             [
              0.1111111111111111,
              "#46039f"
             ],
             [
              0.2222222222222222,
              "#7201a8"
             ],
             [
              0.3333333333333333,
              "#9c179e"
             ],
             [
              0.4444444444444444,
              "#bd3786"
             ],
             [
              0.5555555555555556,
              "#d8576b"
             ],
             [
              0.6666666666666666,
              "#ed7953"
             ],
             [
              0.7777777777777778,
              "#fb9f3a"
             ],
             [
              0.8888888888888888,
              "#fdca26"
             ],
             [
              1,
              "#f0f921"
             ]
            ],
            "type": "histogram2dcontour"
           }
          ],
          "mesh3d": [
           {
            "colorbar": {
             "outlinewidth": 0,
             "ticks": ""
            },
            "type": "mesh3d"
           }
          ],
          "parcoords": [
           {
            "line": {
             "colorbar": {
              "outlinewidth": 0,
              "ticks": ""
             }
            },
            "type": "parcoords"
           }
          ],
          "pie": [
           {
            "automargin": true,
            "type": "pie"
           }
          ],
          "scatter": [
           {
            "fillpattern": {
             "fillmode": "overlay",
             "size": 10,
             "solidity": 0.2
            },
            "type": "scatter"
           }
          ],
          "scatter3d": [
           {
            "line": {
             "colorbar": {
              "outlinewidth": 0,
              "ticks": ""
             }
            },
            "marker": {
             "colorbar": {
              "outlinewidth": 0,
              "ticks": ""
             }
            },
            "type": "scatter3d"
           }
          ],
          "scattercarpet": [
           {
            "marker": {
             "colorbar": {
              "outlinewidth": 0,
              "ticks": ""
             }
            },
            "type": "scattercarpet"
           }
          ],
          "scattergeo": [
           {
            "marker": {
             "colorbar": {
              "outlinewidth": 0,
              "ticks": ""
             }
            },
            "type": "scattergeo"
           }
          ],
          "scattergl": [
           {
            "marker": {
             "colorbar": {
              "outlinewidth": 0,
              "ticks": ""
             }
            },
            "type": "scattergl"
           }
          ],
          "scattermapbox": [
           {
            "marker": {
             "colorbar": {
              "outlinewidth": 0,
              "ticks": ""
             }
            },
            "type": "scattermapbox"
           }
          ],
          "scatterpolar": [
           {
            "marker": {
             "colorbar": {
              "outlinewidth": 0,
              "ticks": ""
             }
            },
            "type": "scatterpolar"
           }
          ],
          "scatterpolargl": [
           {
            "marker": {
             "colorbar": {
              "outlinewidth": 0,
              "ticks": ""
             }
            },
            "type": "scatterpolargl"
           }
          ],
          "scatterternary": [
           {
            "marker": {
             "colorbar": {
              "outlinewidth": 0,
              "ticks": ""
             }
            },
            "type": "scatterternary"
           }
          ],
          "surface": [
           {
            "colorbar": {
             "outlinewidth": 0,
             "ticks": ""
            },
            "colorscale": [
             [
              0,
              "#0d0887"
             ],
             [
              0.1111111111111111,
              "#46039f"
             ],
             [
              0.2222222222222222,
              "#7201a8"
             ],
             [
              0.3333333333333333,
              "#9c179e"
             ],
             [
              0.4444444444444444,
              "#bd3786"
             ],
             [
              0.5555555555555556,
              "#d8576b"
             ],
             [
              0.6666666666666666,
              "#ed7953"
             ],
             [
              0.7777777777777778,
              "#fb9f3a"
             ],
             [
              0.8888888888888888,
              "#fdca26"
             ],
             [
              1,
              "#f0f921"
             ]
            ],
            "type": "surface"
           }
          ],
          "table": [
           {
            "cells": {
             "fill": {
              "color": "#EBF0F8"
             },
             "line": {
              "color": "white"
             }
            },
            "header": {
             "fill": {
              "color": "#C8D4E3"
             },
             "line": {
              "color": "white"
             }
            },
            "type": "table"
           }
          ]
         },
         "layout": {
          "annotationdefaults": {
           "arrowcolor": "#2a3f5f",
           "arrowhead": 0,
           "arrowwidth": 1
          },
          "autotypenumbers": "strict",
          "coloraxis": {
           "colorbar": {
            "outlinewidth": 0,
            "ticks": ""
           }
          },
          "colorscale": {
           "diverging": [
            [
             0,
             "#8e0152"
            ],
            [
             0.1,
             "#c51b7d"
            ],
            [
             0.2,
             "#de77ae"
            ],
            [
             0.3,
             "#f1b6da"
            ],
            [
             0.4,
             "#fde0ef"
            ],
            [
             0.5,
             "#f7f7f7"
            ],
            [
             0.6,
             "#e6f5d0"
            ],
            [
             0.7,
             "#b8e186"
            ],
            [
             0.8,
             "#7fbc41"
            ],
            [
             0.9,
             "#4d9221"
            ],
            [
             1,
             "#276419"
            ]
           ],
           "sequential": [
            [
             0,
             "#0d0887"
            ],
            [
             0.1111111111111111,
             "#46039f"
            ],
            [
             0.2222222222222222,
             "#7201a8"
            ],
            [
             0.3333333333333333,
             "#9c179e"
            ],
            [
             0.4444444444444444,
             "#bd3786"
            ],
            [
             0.5555555555555556,
             "#d8576b"
            ],
            [
             0.6666666666666666,
             "#ed7953"
            ],
            [
             0.7777777777777778,
             "#fb9f3a"
            ],
            [
             0.8888888888888888,
             "#fdca26"
            ],
            [
             1,
             "#f0f921"
            ]
           ],
           "sequentialminus": [
            [
             0,
             "#0d0887"
            ],
            [
             0.1111111111111111,
             "#46039f"
            ],
            [
             0.2222222222222222,
             "#7201a8"
            ],
            [
             0.3333333333333333,
             "#9c179e"
            ],
            [
             0.4444444444444444,
             "#bd3786"
            ],
            [
             0.5555555555555556,
             "#d8576b"
            ],
            [
             0.6666666666666666,
             "#ed7953"
            ],
            [
             0.7777777777777778,
             "#fb9f3a"
            ],
            [
             0.8888888888888888,
             "#fdca26"
            ],
            [
             1,
             "#f0f921"
            ]
           ]
          },
          "colorway": [
           "#636efa",
           "#EF553B",
           "#00cc96",
           "#ab63fa",
           "#FFA15A",
           "#19d3f3",
           "#FF6692",
           "#B6E880",
           "#FF97FF",
           "#FECB52"
          ],
          "font": {
           "color": "#2a3f5f"
          },
          "geo": {
           "bgcolor": "white",
           "lakecolor": "white",
           "landcolor": "#E5ECF6",
           "showlakes": true,
           "showland": true,
           "subunitcolor": "white"
          },
          "hoverlabel": {
           "align": "left"
          },
          "hovermode": "closest",
          "mapbox": {
           "style": "light"
          },
          "paper_bgcolor": "white",
          "plot_bgcolor": "#E5ECF6",
          "polar": {
           "angularaxis": {
            "gridcolor": "white",
            "linecolor": "white",
            "ticks": ""
           },
           "bgcolor": "#E5ECF6",
           "radialaxis": {
            "gridcolor": "white",
            "linecolor": "white",
            "ticks": ""
           }
          },
          "scene": {
           "xaxis": {
            "backgroundcolor": "#E5ECF6",
            "gridcolor": "white",
            "gridwidth": 2,
            "linecolor": "white",
            "showbackground": true,
            "ticks": "",
            "zerolinecolor": "white"
           },
           "yaxis": {
            "backgroundcolor": "#E5ECF6",
            "gridcolor": "white",
            "gridwidth": 2,
            "linecolor": "white",
            "showbackground": true,
            "ticks": "",
            "zerolinecolor": "white"
           },
           "zaxis": {
            "backgroundcolor": "#E5ECF6",
            "gridcolor": "white",
            "gridwidth": 2,
            "linecolor": "white",
            "showbackground": true,
            "ticks": "",
            "zerolinecolor": "white"
           }
          },
          "shapedefaults": {
           "line": {
            "color": "#2a3f5f"
           }
          },
          "ternary": {
           "aaxis": {
            "gridcolor": "white",
            "linecolor": "white",
            "ticks": ""
           },
           "baxis": {
            "gridcolor": "white",
            "linecolor": "white",
            "ticks": ""
           },
           "bgcolor": "#E5ECF6",
           "caxis": {
            "gridcolor": "white",
            "linecolor": "white",
            "ticks": ""
           }
          },
          "title": {
           "x": 0.05
          },
          "xaxis": {
           "automargin": true,
           "gridcolor": "white",
           "linecolor": "white",
           "ticks": "",
           "title": {
            "standoff": 15
           },
           "zerolinecolor": "white",
           "zerolinewidth": 2
          },
          "yaxis": {
           "automargin": true,
           "gridcolor": "white",
           "linecolor": "white",
           "ticks": "",
           "title": {
            "standoff": 15
           },
           "zerolinecolor": "white",
           "zerolinewidth": 2
          }
         }
        },
        "xaxis": {
         "anchor": "y",
         "domain": [
          0,
          1
         ],
         "title": {
          "text": "Winner"
         }
        },
        "yaxis": {
         "anchor": "x",
         "domain": [
          0,
          1
         ],
         "title": {
          "text": "count"
         }
        }
       }
      }
     },
     "metadata": {},
     "output_type": "display_data"
    }
   ],
   "source": [
    "outliers = { }\n",
    "for i, row in winner_df.iterrows():\n",
    "  name = row['Winner']\n",
    "  if name not in outliers:\n",
    "    outliers[name] = 0\n",
    "  outliers[name] += 1\n",
    "\n",
    "elements = np.array(list(outliers.values()))\n",
    "mean = np.mean(elements, axis=0)\n",
    "sd = np.std(elements, axis=0)\n",
    "\n",
    "outliers = {k: x for k, x in outliers.items() if (x > mean + 2 * sd)}\n",
    "outlier_names = list(outliers.keys())\n",
    "\n",
    "outlier_df = winner_df[winner_df.Winner.isin(outlier_names)]\n",
    "\n",
    "pretty = [(k, x) for k, x in outliers.items()]\n",
    "pretty = sorted(pretty, key=lambda x: x[1], reverse=True)\n",
    "\n",
    "longest_name = len(max(pretty, key=lambda x: len(x[0]))[0])\n",
    "for winner in pretty:\n",
    "  diff = (longest_name - len(winner[0])) + 1\n",
    "  diff = ' ' * diff\n",
    "  print(winner[0] + diff + \"won a total of \" + str(winner[1]) + \" times\")\n",
    "\n",
    "px.histogram(outlier_df, x=\"Winner\")"
   ]
  },
  {
   "cell_type": "markdown",
   "metadata": {},
   "source": [
    "## Collecting draw entry data\n",
    "Each entry for individual draws are listed in the aforementioned 'ENTRIES' URLs, we can collect that data to determine the probability of win(s)"
   ]
  },
  {
   "cell_type": "code",
   "execution_count": 83,
   "metadata": {},
   "outputs": [],
   "source": [
    "pages = []\n",
    "for url in URL_PATTERNS['ENTRIES']:\n",
    "  pages.append(get_page(url))"
   ]
  },
  {
   "cell_type": "code",
   "execution_count": 84,
   "metadata": {},
   "outputs": [],
   "source": [
    "entries_df = pd.DataFrame(columns=('Item', 'Draw date', 'PDF'))\n",
    "\n",
    "for soup in pages:\n",
    "  elements = soup.find_all('div', class_='elementor-widget-wrap elementor-element-populated')\n",
    "  for element in elements:\n",
    "    try:\n",
    "      item = element.find('h3', class_='elementor-heading-title elementor-size-default').get_text().strip()\n",
    "      desc = element.find('div', class_='elementor-widget-text-editor').encode_contents().decode('utf8')\n",
    "      btn = element.find('span', class_='elementor-button-text')\n",
    "      pdf = btn.parent.parent.get('href')\n",
    "      date = re.search(r'Draw date\\:\\s*([\\d+\\/]*)', desc, re.MULTILINE).group(1)\n",
    "            \n",
    "      entries_df.loc[len(entries_df)] = [item, date, pdf]\n",
    "    except:\n",
    "      pass"
   ]
  },
  {
   "cell_type": "markdown",
   "metadata": {},
   "source": [
    "#### Linking outliers to entry data"
   ]
  },
  {
   "cell_type": "code",
   "execution_count": 85,
   "metadata": {},
   "outputs": [
    {
     "name": "stdout",
     "output_type": "stream",
     "text": [
      "                         Item             Winner  \\\n",
      "0             Noir 3090 FE PC         Rob Davies   \n",
      "1                    LG C1 #5         Rob Davies   \n",
      "2         5800x3d x570 Bundle       Rajan Bhasin   \n",
      "3             72hr RTX3090 FE         Rob Davies   \n",
      "4       72hr Xbox Series 2 #4      Daniel Ollett   \n",
      "5               IT Duster #10      Daniel Ollett   \n",
      "6           Govee Hexa Panels      Isaac Poulson   \n",
      "7            Govee Light Bars       Rajan Bhasin   \n",
      "8              NZXT Flow Case     David Phillips   \n",
      "9         3080Ti AORUS Master      Cameron Vince   \n",
      "10        Sage Coffee Machine    Ryan Pennington   \n",
      "11               IT Duster #8        Liam Powell   \n",
      "12     PACMAN Light Bundle #2        Liam Powell   \n",
      "13            iFixit Manta #6      Daniel Ollett   \n",
      "14         Logitech G Pro TKL           Tam Shaw   \n",
      "15          48hr RTX3070Ti FE         Rob Davies   \n",
      "16         Razer Huntsman TKL     Gavin Chisholm   \n",
      "17                   LG C1 #3         Rob Davies   \n",
      "18        Razer White Pad XXL      Cameron Vince   \n",
      "19            400k Gigapoints     Anthony Thorne   \n",
      "20              Corsair MM700     Anthony Thorne   \n",
      "21          Bose Soundbar 300     Gavin Chisholm   \n",
      "22         Steelseries Apex 7           Sami Ali   \n",
      "23         IT Duster Xpert #4       Rajan Bhasin   \n",
      "24       Razer Raptor Monitor     Gavin Chisholm   \n",
      "25          Razer Kiyo Pro #3       Chris Heggie   \n",
      "26              Noctua NH-D15      Isaac Poulson   \n",
      "27              Xbox Series S           Vinh Cam   \n",
      "28             Razer Huntsman      Janet Quinney   \n",
      "29         Redator XB3 27\" #2           Vinh Cam   \n",
      "30          Oculus Quest 2 #6      Janet Quinney   \n",
      "31        Razer Kraken Quartz           Vinh Cam   \n",
      "32            Razer Leviathan         Rob Davies   \n",
      "33              Corsair LT100       Rajan Bhasin   \n",
      "34        200k Gigapoints #14      Isaac Poulson   \n",
      "35         HyperX Cloud II #4         Rob Davies   \n",
      "36           Corsair ST100 #2      Isaac Poulson   \n",
      "37        2 Winners | AOC 27\"       Chris Heggie   \n",
      "38         SS Rival 600 Mouse      Cameron Vince   \n",
      "39                  BF2042 #3      Isaac Poulson   \n",
      "40         400k Gigapoints #1      Cameron Vince   \n",
      "41     48 Hour | EVGA RTX3080       Alex Mcclune   \n",
      "42             AOC 4k Monitor     David Phillips   \n",
      "43             Razer Kiyo Pro           Sami Ali   \n",
      "44            HyperX Quadcast       Alex Mcclune   \n",
      "45           Razer Earbuds #6      Janet Quinney   \n",
      "46             Odyssey G5 34\"       Chris Heggie   \n",
      "47      275 Ticket RTX3070 PC      Cameron Vince   \n",
      "48          BF 2042 Pre-Order         Rob Davies   \n",
      "49       Logitech G Pro Mouse           Sami ALI   \n",
      "50   £100 Ghz Store Credit #5           Tam Shaw   \n",
      "51             PS5 R&C Bundle      Janet Quinney   \n",
      "52      Razer Power Up Bundle      Janet Quinney   \n",
      "53         Sabrent | 1TB NVMe      Daniel Ollett   \n",
      "54     LOW ODDS | MSI RTX3070           Sami Ali   \n",
      "55          HyperX | Cloud II      Daniel Ollett   \n",
      "56  NZXT | Plug n PLay Bundle  Mariusz Martyszko   \n",
      "57        AOC | 34\" Ultrawide         Rob Davies   \n",
      "58     Reaper Cable | PSU Kit           Vinh Cam   \n",
      "59              Xbox Series S           Vinh Cam   \n",
      "60         Sabrent | 1TB NVME      Daniel Ollett   \n",
      "61           Arctic | 240 AIO           Tam Shaw   \n",
      "62    iiyama | 27\" 4k Monitor           Tam Shaw   \n",
      "63  Corsair 4000X | Gaming PC           Vinh Cam   \n",
      "64         Samsung | 1TB NVME           Vinh Cam   \n",
      "65          Samsung | 2TB SSD         Rob Davies   \n",
      "66       2nd | 16GB Royal RAM           Tam Shaw   \n",
      "67     Steelseries | Arctis 5           Sami ALI   \n",
      "68              MSI | RTX3070         Rob Davies   \n",
      "69            iPhone | 12 Pro           Vinh Cam   \n",
      "70        Razer | 3rd Earbuds  Mariusz Martyszko   \n",
      "71        Razer | Viper Mouse     David Phillips   \n",
      "72      Logitech | G29 Bundle         Rob Davies   \n",
      "73            Xbox | Series S           Sami ALI   \n",
      "\n",
      "                                                  PDF  \n",
      "0   https://gigahertzgiveaways.co.uk/wp-content/up...  \n",
      "1   https://gigahertzgiveaways.co.uk/wp-content/up...  \n",
      "2   https://gigahertzgiveaways.co.uk/wp-content/up...  \n",
      "3   https://gigahertzgiveaways.co.uk/wp-content/up...  \n",
      "4   https://gigahertzgiveaways.co.uk/wp-content/up...  \n",
      "5   https://gigahertzgiveaways.co.uk/wp-content/up...  \n",
      "6   https://gigahertzgiveaways.co.uk/wp-content/up...  \n",
      "7   https://gigahertzgiveaways.co.uk/wp-content/up...  \n",
      "8   https://gigahertzgiveaways.co.uk/wp-content/up...  \n",
      "9   https://gigahertzgiveaways.co.uk/wp-content/up...  \n",
      "10  https://gigahertzgiveaways.co.uk/wp-content/up...  \n",
      "11  https://gigahertzgiveaways.co.uk/wp-content/up...  \n",
      "12  https://gigahertzgiveaways.co.uk/wp-content/up...  \n",
      "13  https://gigahertzgiveaways.co.uk/wp-content/up...  \n",
      "14  https://gigahertzgiveaways.co.uk/wp-content/up...  \n",
      "15  https://gigahertzgiveaways.co.uk/wp-content/up...  \n",
      "16  https://gigahertzgiveaways.co.uk/wp-content/up...  \n",
      "17  https://gigahertzgiveaways.co.uk/wp-content/up...  \n",
      "18  https://gigahertzgiveaways.co.uk/wp-content/up...  \n",
      "19  https://gigahertzgiveaways.co.uk/wp-content/up...  \n",
      "20  https://gigahertzgiveaways.co.uk/wp-content/up...  \n",
      "21  https://gigahertzgiveaways.co.uk/wp-content/up...  \n",
      "22  https://gigahertzgiveaways.co.uk/wp-content/up...  \n",
      "23  https://gigahertzgiveaways.co.uk/wp-content/up...  \n",
      "24  https://gigahertzgiveaways.co.uk/wp-content/up...  \n",
      "25  https://gigahertzgiveaways.co.uk/wp-content/up...  \n",
      "26  https://gigahertzgiveaways.co.uk/wp-content/up...  \n",
      "27  https://gigahertzgiveaways.co.uk/wp-content/up...  \n",
      "28  https://gigahertzgiveaways.co.uk/wp-content/up...  \n",
      "29  https://gigahertzgiveaways.co.uk/wp-content/up...  \n",
      "30  https://gigahertzgiveaways.co.uk/wp-content/up...  \n",
      "31  https://gigahertzgiveaways.co.uk/wp-content/up...  \n",
      "32  https://gigahertzgiveaways.co.uk/wp-content/up...  \n",
      "33  https://gigahertzgiveaways.co.uk/wp-content/up...  \n",
      "34  https://gigahertzgiveaways.co.uk/wp-content/up...  \n",
      "35  https://gigahertzgiveaways.co.uk/wp-content/up...  \n",
      "36  https://gigahertzgiveaways.co.uk/wp-content/up...  \n",
      "37  https://gigahertzgiveaways.co.uk/wp-content/up...  \n",
      "38  https://gigahertzgiveaways.co.uk/wp-content/up...  \n",
      "39  https://gigahertzgiveaways.co.uk/wp-content/up...  \n",
      "40  https://gigahertzgiveaways.co.uk/wp-content/up...  \n",
      "41  https://gigahertzgiveaways.co.uk/wp-content/up...  \n",
      "42  https://gigahertzgiveaways.co.uk/wp-content/up...  \n",
      "43  https://gigahertzgiveaways.co.uk/wp-content/up...  \n",
      "44  https://gigahertzgiveaways.co.uk/wp-content/up...  \n",
      "45  https://gigahertzgiveaways.co.uk/wp-content/up...  \n",
      "46  https://gigahertzgiveaways.co.uk/wp-content/up...  \n",
      "47  https://gigahertzgiveaways.co.uk/wp-content/up...  \n",
      "48  https://gigahertzgiveaways.co.uk/wp-content/up...  \n",
      "49  https://gigahertzgiveaways.co.uk/wp-content/up...  \n",
      "50  https://gigahertzgiveaways.co.uk/wp-content/up...  \n",
      "51  https://gigahertzgiveaways.co.uk/wp-content/up...  \n",
      "52  https://gigahertzgiveaways.co.uk/wp-content/up...  \n",
      "53  https://gigahertzgiveaways.co.uk/wp-content/up...  \n",
      "54  https://gigahertzgiveaways.co.uk/wp-content/up...  \n",
      "55  https://gigahertzgiveaways.co.uk/wp-content/up...  \n",
      "56  https://gigahertzgiveaways.co.uk/wp-content/up...  \n",
      "57  https://gigahertzgiveaways.co.uk/wp-content/up...  \n",
      "58  https://gigahertzgiveaways.co.uk/wp-content/up...  \n",
      "59  https://gigahertzgiveaways.co.uk/wp-content/up...  \n",
      "60  https://gigahertzgiveaways.co.uk/wp-content/up...  \n",
      "61  https://gigahertzgiveaways.co.uk/wp-content/up...  \n",
      "62  https://gigahertzgiveaways.co.uk/wp-content/up...  \n",
      "63  https://gigahertzgiveaways.co.uk/wp-content/up...  \n",
      "64  https://gigahertzgiveaways.co.uk/wp-content/up...  \n",
      "65  https://gigahertzgiveaways.co.uk/wp-content/up...  \n",
      "66  https://gigahertzgiveaways.co.uk/wp-content/up...  \n",
      "67  https://gigahertzgiveaways.co.uk/wp-content/up...  \n",
      "68  https://gigahertzgiveaways.co.uk/wp-content/up...  \n",
      "69  https://gigahertzgiveaways.co.uk/wp-content/up...  \n",
      "70  https://gigahertzgiveaways.co.uk/wp-content/up...  \n",
      "71  https://gigahertzgiveaways.co.uk/wp-content/up...  \n",
      "72  https://gigahertzgiveaways.co.uk/wp-content/up...  \n",
      "73  https://gigahertzgiveaways.co.uk/wp-content/up...  \n"
     ]
    }
   ],
   "source": [
    "linked_entries = pd.DataFrame(columns=('Item', 'Winner', 'PDF'))\n",
    "for i, row in outlier_df.iterrows():\n",
    "  items = entries_df.loc[(entries_df['Item'] == row['Item']) & (entries_df['Draw date'] == row['Draw date'])]\n",
    "  if len(items) <= 0:\n",
    "    def fuzzy_match(val):\n",
    "      return fuzz.ratio(val.lower(), row['Item'].lower())\n",
    "        \n",
    "    items = entries_df.loc[entries_df['Item'].apply(fuzzy_match) >= 80]\n",
    "    items = items.loc[items['Draw date'] == row['Draw date']]\n",
    "\n",
    "  if len(items) > 0:\n",
    "    items = items.iloc[0]\n",
    "    linked_entries.loc[len(linked_entries)] = [row['Item'], row['Winner'], items['PDF']]\n",
    "\n",
    "with pd.option_context('display.max_rows', None, 'display.max_columns', None):\n",
    "  print(linked_entries)"
   ]
  },
  {
   "cell_type": "markdown",
   "metadata": {},
   "source": [
    "#### Retrieving PDF entry data"
   ]
  },
  {
   "cell_type": "code",
   "execution_count": 86,
   "metadata": {},
   "outputs": [],
   "source": [
    "chunk_size = 2000\n",
    "\n",
    "if not os.path.exists('./data/'):\n",
    "  os.mkdir('./data/')\n",
    "\n",
    "  for i, row in linked_entries.iterrows():\n",
    "    url = row['PDF']\n",
    "    path = urlparse(url)\n",
    "    filename = os.path.basename(path.path)\n",
    "    r = requests.get(url, stream=True)\n",
    "    with open(f'./data/{filename}', 'wb') as f:\n",
    "      for chunk in r.iter_content(chunk_size):\n",
    "        f.write(chunk)"
   ]
  },
  {
   "cell_type": "markdown",
   "metadata": {},
   "source": [
    "## Probability of each outlier winning their respective prize(s)\n",
    "Let's first determine the amount of tickets purchased v.s. the amount of tickets available"
   ]
  },
  {
   "cell_type": "code",
   "execution_count": 87,
   "metadata": {},
   "outputs": [],
   "source": [
    "def transform(item):\n",
    "  return item.lower()\n",
    "\n",
    "win_probability = pd.DataFrame(columns=('Winner', 'Item', 'Max Tickets', 'Purchased Tickets'))\n",
    "for i, row in linked_entries.iterrows():\n",
    "  filename = os.path.basename(urlparse(row['PDF']).path)\n",
    "  tables = tabula.read_pdf(f'./data/{filename}', pages='all')\n",
    "  firstname, lastname = row['Winner'].split(' ')\n",
    "\n",
    "  entries = pd.DataFrame(columns=tables[0].columns)\n",
    "  for tab in tables:\n",
    "    for j, entry in tab.iterrows():\n",
    "      entries.loc[len(entries)] = [entry.iloc[0], entry.iloc[1], entry.iloc[2], entry.iloc[3]]\n",
    "  \n",
    "  purchased_tickets = len(entries.loc[(entries['First Name'].apply(transform) == transform(firstname)) & (entries['Last Name'].apply(transform) == transform(lastname))])\n",
    "  max_tickets = outlier_df.loc[(outlier_df['Winner'] == row['Winner']) & (outlier_df['Item'] == row['Item'])].iloc[0]['Maximum Tickets']\n",
    "\n",
    "  \"\"\"\n",
    "   The following is done for the case of 'Cameron Vince', who entered 1 time for the \"275 Ticket RTX3070\" (PDF: 223_LianLi215_5800x_3070-072021-Final.pdf)\n",
    "   but due to issues with the PDF parser, we were unable to detect his entry.\n",
    "\n",
    "   Upon manual inspection of the PDF, I have found that he entered a single time.\n",
    "  \"\"\"\n",
    "  purchased_tickets = purchased_tickets if purchased_tickets > 0 else purchased_tickets + 1\n",
    "\n",
    "\n",
    "  win_probability.loc[len(win_probability)] = [row['Winner'], row['Item'], max_tickets, purchased_tickets]"
   ]
  },
  {
   "cell_type": "markdown",
   "metadata": {},
   "source": [
    "Now let's calculate the probability of that individual winning the respective draw"
   ]
  },
  {
   "cell_type": "code",
   "execution_count": 88,
   "metadata": {},
   "outputs": [
    {
     "name": "stdout",
     "output_type": "stream",
     "text": [
      "               Winner                       Item Max Tickets  \\\n",
      "0          Rob Davies            Noir 3090 FE PC         800   \n",
      "1          Rob Davies                   LG C1 #5         100   \n",
      "2        Rajan Bhasin        5800x3d x570 Bundle         175   \n",
      "3          Rob Davies            72hr RTX3090 FE         110   \n",
      "4       Daniel Ollett      72hr Xbox Series 2 #4          15   \n",
      "5       Daniel Ollett              IT Duster #10          70   \n",
      "6       Isaac Poulson          Govee Hexa Panels          40   \n",
      "7        Rajan Bhasin           Govee Light Bars          10   \n",
      "8      David Phillips             NZXT Flow Case          40   \n",
      "9       Cameron Vince        3080Ti AORUS Master        1250   \n",
      "10    Ryan Pennington        Sage Coffee Machine          75   \n",
      "11        Liam Powell               IT Duster #8          70   \n",
      "12        Liam Powell     PACMAN Light Bundle #2         135   \n",
      "13      Daniel Ollett            iFixit Manta #6          55   \n",
      "14           Tam Shaw         Logitech G Pro TKL         100   \n",
      "15         Rob Davies          48hr RTX3070Ti FE          45   \n",
      "16     Gavin Chisholm         Razer Huntsman TKL         125   \n",
      "17         Rob Davies                   LG C1 #3         195   \n",
      "18      Cameron Vince        Razer White Pad XXL          35   \n",
      "19     Anthony Thorne            400k Gigapoints         200   \n",
      "20     Anthony Thorne              Corsair MM700         100   \n",
      "21     Gavin Chisholm          Bose Soundbar 300          80   \n",
      "22           Sami Ali         Steelseries Apex 7         150   \n",
      "23       Rajan Bhasin         IT Duster Xpert #4          70   \n",
      "24     Gavin Chisholm       Razer Raptor Monitor         195   \n",
      "25       Chris Heggie          Razer Kiyo Pro #3         100   \n",
      "26      Isaac Poulson              Noctua NH-D15          60   \n",
      "27           Vinh Cam              Xbox Series S          50   \n",
      "28      Janet Quinney             Razer Huntsman          85   \n",
      "29           Vinh Cam         Redator XB3 27\" #2         150   \n",
      "30      Janet Quinney          Oculus Quest 2 #6          55   \n",
      "31           Vinh Cam        Razer Kraken Quartz          95   \n",
      "32         Rob Davies            Razer Leviathan         130   \n",
      "33       Rajan Bhasin              Corsair LT100         120   \n",
      "34      Isaac Poulson        200k Gigapoints #14         150   \n",
      "35         Rob Davies         HyperX Cloud II #4          75   \n",
      "36      Isaac Poulson           Corsair ST100 #2          60   \n",
      "37       Chris Heggie        2 Winners | AOC 27\"         195   \n",
      "38      Cameron Vince         SS Rival 600 Mouse          75   \n",
      "39      Isaac Poulson                  BF2042 #3          40   \n",
      "40      Cameron Vince         400k Gigapoints #1         150   \n",
      "41       Alex Mcclune     48 Hour | EVGA RTX3080          65   \n",
      "42     David Phillips             AOC 4k Monitor         125   \n",
      "43           Sami Ali             Razer Kiyo Pro          30   \n",
      "44       Alex Mcclune            HyperX Quadcast          50   \n",
      "45      Janet Quinney           Razer Earbuds #6         150   \n",
      "46       Chris Heggie             Odyssey G5 34\"         125   \n",
      "47      Cameron Vince      275 Ticket RTX3070 PC         275   \n",
      "48         Rob Davies          BF 2042 Pre-Order          35   \n",
      "49           Sami ALI       Logitech G Pro Mouse         185   \n",
      "50           Tam Shaw   £100 Ghz Store Credit #5         125   \n",
      "51      Janet Quinney             PS5 R&C Bundle         225   \n",
      "52      Janet Quinney      Razer Power Up Bundle          85   \n",
      "53      Daniel Ollett         Sabrent | 1TB NVMe          99   \n",
      "54           Sami Ali     LOW ODDS | MSI RTX3070          65   \n",
      "55      Daniel Ollett          HyperX | Cloud II         150   \n",
      "56  Mariusz Martyszko  NZXT | Plug n PLay Bundle         375   \n",
      "57         Rob Davies        AOC | 34\" Ultrawide         150   \n",
      "58           Vinh Cam     Reaper Cable | PSU Kit          65   \n",
      "59           Vinh Cam              Xbox Series S          50   \n",
      "60      Daniel Ollett         Sabrent | 1TB NVME         100   \n",
      "61           Tam Shaw           Arctic | 240 AIO          85   \n",
      "62           Tam Shaw    iiyama | 27\" 4k Monitor         125   \n",
      "63           Vinh Cam  Corsair 4000X | Gaming PC         395   \n",
      "64           Vinh Cam         Samsung | 1TB NVME         100   \n",
      "65         Rob Davies          Samsung | 2TB SSD         125   \n",
      "66           Tam Shaw       2nd | 16GB Royal RAM          75   \n",
      "67           Sami ALI     Steelseries | Arctis 5          85   \n",
      "68         Rob Davies              MSI | RTX3070         150   \n",
      "69           Vinh Cam            iPhone | 12 Pro         195   \n",
      "70  Mariusz Martyszko        Razer | 3rd Earbuds          85   \n",
      "71     David Phillips        Razer | Viper Mouse         150   \n",
      "72         Rob Davies      Logitech | G29 Bundle          85   \n",
      "73           Sami ALI            Xbox | Series S          45   \n",
      "\n",
      "    Purchased Tickets  Probability  \n",
      "0                  10     0.012500  \n",
      "1                   3     0.030000  \n",
      "2                  10     0.057143  \n",
      "3                   9     0.081818  \n",
      "4                   1     0.066667  \n",
      "5                   5     0.071429  \n",
      "6                   2     0.050000  \n",
      "7                   1     0.100000  \n",
      "8                   1     0.025000  \n",
      "9                  10     0.008000  \n",
      "10                  5     0.066667  \n",
      "11                  2     0.028571  \n",
      "12                  2     0.014815  \n",
      "13                  5     0.090909  \n",
      "14                  1     0.010000  \n",
      "15                  2     0.044444  \n",
      "16                  4     0.032000  \n",
      "17                  9     0.046154  \n",
      "18                  1     0.028571  \n",
      "19                  9     0.045000  \n",
      "20                 10     0.100000  \n",
      "21                  5     0.062500  \n",
      "22                 10     0.066667  \n",
      "23                  7     0.100000  \n",
      "24                  2     0.010256  \n",
      "25                  1     0.010000  \n",
      "26                  5     0.083333  \n",
      "27                  2     0.040000  \n",
      "28                  3     0.035294  \n",
      "29                  6     0.040000  \n",
      "30                  1     0.018182  \n",
      "31                  5     0.052632  \n",
      "32                 10     0.076923  \n",
      "33                  4     0.033333  \n",
      "34                 10     0.066667  \n",
      "35                  7     0.093333  \n",
      "36                  1     0.016667  \n",
      "37                  1     0.005128  \n",
      "38                 10     0.133333  \n",
      "39                  5     0.125000  \n",
      "40                 10     0.066667  \n",
      "41                  2     0.030769  \n",
      "42                  1     0.008000  \n",
      "43                  1     0.033333  \n",
      "44                  1     0.020000  \n",
      "45                  2     0.013333  \n",
      "46                  1     0.008000  \n",
      "47                  1     0.003636  \n",
      "48                  5     0.142857  \n",
      "49                 20     0.108108  \n",
      "50                  5     0.040000  \n",
      "51                  2     0.008889  \n",
      "52                  8     0.094118  \n",
      "53                 10     0.101010  \n",
      "54                  8     0.123077  \n",
      "55                 10     0.066667  \n",
      "56                  3     0.008000  \n",
      "57                 10     0.066667  \n",
      "58                  2     0.030769  \n",
      "59                  5     0.100000  \n",
      "60                 10     0.100000  \n",
      "61                  1     0.011765  \n",
      "62                  1     0.008000  \n",
      "63                  3     0.007595  \n",
      "64                  5     0.050000  \n",
      "65                 10     0.080000  \n",
      "66                  1     0.013333  \n",
      "67                  5     0.058824  \n",
      "68                 10     0.066667  \n",
      "69                  5     0.025641  \n",
      "70                  5     0.058824  \n",
      "71                 10     0.066667  \n",
      "72                 10     0.117647  \n",
      "73                  5     0.111111  \n"
     ]
    }
   ],
   "source": [
    "probabilities = []\n",
    "for i, row in win_probability.iterrows():\n",
    "  available = row['Max Tickets']\n",
    "  purchased = row['Purchased Tickets']\n",
    "  probabilities.append(float(purchased) / float(available))\n",
    "\n",
    "win_probability['Probability'] = probabilities\n",
    "\n",
    "with pd.option_context('display.max_rows', None, 'display.max_columns', None):\n",
    "  print(win_probability)"
   ]
  },
  {
   "cell_type": "markdown",
   "metadata": {},
   "source": [
    "Now let's calculate the probability of the individuals outside the SD winning their combined draws\n",
    "\n",
    "P.S. for comparison, the probability of winning the jackpot on the lottery is approx. ~5.10 × 10^-15 (0.00000000000051%)"
   ]
  },
  {
   "cell_type": "code",
   "execution_count": 103,
   "metadata": {},
   "outputs": [
    {
     "name": "stdout",
     "output_type": "stream",
     "text": [
      "Rob Davies had a probability of 0.00000000000027001656% (2.7001655960931986e-15) to win the 12 times that he/she did\n",
      "Rajan Bhasin had a probability of 0.00190476190476190498% (1.904761904761905e-05) to win the 4 times that he/she did\n",
      "Daniel Ollett had a probability of 0.00002915154430305945% (2.915154430305945e-07) to win the 6 times that he/she did\n",
      "Isaac Poulson had a probability of 0.00005787037037037037% (5.787037037037037e-07) to win the 5 times that he/she did\n",
      "David Phillips had a probability of 0.00133333333333333329% (1.3333333333333333e-05) to win the 3 times that he/she did\n",
      "Cameron Vince had a probability of 0.00000073881673881674% (7.3881673881673874e-09) to win the 5 times that he/she did\n",
      "Ryan Pennington had a probability of 6.66666666666666696273% (0.06666666666666667) to win the 1 times that he/she did\n",
      "Liam Powell had a probability of 0.04232804232804233263% (0.0004232804232804233) to win the 2 times that he/she did\n",
      "Tam Shaw had a probability of 0.00000005019607843137% (5.019607843137255e-10) to win the 5 times that he/she did\n",
      "Gavin Chisholm had a probability of 0.00205128205128205128% (2.0512820512820512e-05) to win the 3 times that he/she did\n",
      "Anthony Thorne had a probability of 0.44999999999999995559% (0.0045) to win the 2 times that he/she did\n",
      "Sami Ali had a probability of 0.02735042735042735387% (0.0002735042735042735) to win the 3 times that he/she did\n",
      "Chris Heggie had a probability of 0.00004102564102564103% (4.102564102564103e-07) to win the 3 times that he/she did\n",
      "Vinh Cam had a probability of 0.00000000025229728504% (2.522972850446843e-12) to win the 8 times that he/she did\n",
      "Janet Quinney had a probability of 0.00000071580860508196% (7.158086050819615e-09) to win the 5 times that he/she did\n",
      "Alex Mcclune had a probability of 0.06153846153846154188% (0.0006153846153846154) to win the 2 times that he/she did\n",
      "Sami ALI had a probability of 0.07065889418830595403% (0.0007065889418830596) to win the 3 times that he/she did\n",
      "Mariusz Martyszko had a probability of 0.04705882352941176405% (0.00047058823529411766) to win the 2 times that he/she did\n"
     ]
    }
   ],
   "source": [
    "successive_event_probability = { }\n",
    "for i, row in win_probability.iterrows():\n",
    "  if row['Winner'] not in successive_event_probability:\n",
    "    successive_event_probability[row['Winner']] = [row['Probability'], 1]\n",
    "  else:\n",
    "    successive_event_probability[row['Winner']][0] *= row['Probability']\n",
    "    successive_event_probability[row['Winner']][1] += 1\n",
    "\n",
    "successive_event_probability = {k: [\"{:.20f}% ({})\".format(x[0] * 100, x[0]), x[1]] for k, x in successive_event_probability.items()}\n",
    "\n",
    "for winner, group in successive_event_probability.items():\n",
    "  print(f\"{winner} had a probability of {group[0]} to win the {group[1]} times that he/she did\")\n"
   ]
  }
 ],
 "metadata": {
  "kernelspec": {
   "display_name": "Python 3.10.0 ('venv': venv)",
   "language": "python",
   "name": "python3"
  },
  "language_info": {
   "codemirror_mode": {
    "name": "ipython",
    "version": 3
   },
   "file_extension": ".py",
   "mimetype": "text/x-python",
   "name": "python",
   "nbconvert_exporter": "python",
   "pygments_lexer": "ipython3",
   "version": "3.10.0"
  },
  "orig_nbformat": 4,
  "vscode": {
   "interpreter": {
    "hash": "8f6c3d9e74713f3a7742345bee3f90c8225334097f6ec719f809910b4f211d07"
   }
  }
 },
 "nbformat": 4,
 "nbformat_minor": 2
}
